{
  "nbformat": 4,
  "nbformat_minor": 0,
  "metadata": {
    "colab": {
      "name": "9장. 순환신경망으로 IMDB 리뷰 분류하기.ipynb",
      "provenance": [],
      "authorship_tag": "ABX9TyPUFXrC7HGgMPV72kU7cd0r",
      "include_colab_link": true
    },
    "kernelspec": {
      "name": "python3",
      "display_name": "Python 3"
    },
    "language_info": {
      "name": "python"
    }
  },
  "cells": [
    {
      "cell_type": "markdown",
      "metadata": {
        "id": "view-in-github",
        "colab_type": "text"
      },
      "source": [
        "<a href=\"https://colab.research.google.com/github/analyst-rhie/self-taught_machine_learning_code/blob/main/9%EC%9E%A5.%20%EC%88%9C%ED%99%98%EC%8B%A0%EA%B2%BD%EB%A7%9D%EC%9C%BC%EB%A1%9C_IMDB_%EB%A6%AC%EB%B7%B0_%EB%B6%84%EB%A5%98%ED%95%98%EA%B8%B0.ipynb\" target=\"_parent\"><img src=\"https://colab.research.google.com/assets/colab-badge.svg\" alt=\"Open In Colab\"/></a>"
      ]
    },
    {
      "cell_type": "code",
      "metadata": {
        "colab": {
          "base_uri": "https://localhost:8080/"
        },
        "id": "SbU1vGlehHwD",
        "outputId": "0e91b5db-96cf-46a7-f7f8-1907f1347ebd"
      },
      "source": [
        "from tensorflow.keras.datasets import imdb\n",
        "(train_input, train_target), (test_input, test_target) = imdb.load_data(num_words = 500)"
      ],
      "execution_count": 1,
      "outputs": [
        {
          "output_type": "stream",
          "text": [
            "<string>:6: VisibleDeprecationWarning: Creating an ndarray from ragged nested sequences (which is a list-or-tuple of lists-or-tuples-or ndarrays with different lengths or shapes) is deprecated. If you meant to do this, you must specify 'dtype=object' when creating the ndarray\n",
            "/usr/local/lib/python3.7/dist-packages/tensorflow/python/keras/datasets/imdb.py:155: VisibleDeprecationWarning: Creating an ndarray from ragged nested sequences (which is a list-or-tuple of lists-or-tuples-or ndarrays with different lengths or shapes) is deprecated. If you meant to do this, you must specify 'dtype=object' when creating the ndarray\n",
            "  x_train, y_train = np.array(xs[:idx]), np.array(labels[:idx])\n",
            "/usr/local/lib/python3.7/dist-packages/tensorflow/python/keras/datasets/imdb.py:156: VisibleDeprecationWarning: Creating an ndarray from ragged nested sequences (which is a list-or-tuple of lists-or-tuples-or ndarrays with different lengths or shapes) is deprecated. If you meant to do this, you must specify 'dtype=object' when creating the ndarray\n",
            "  x_test, y_test = np.array(xs[idx:]), np.array(labels[idx:])\n"
          ],
          "name": "stderr"
        }
      ]
    },
    {
      "cell_type": "code",
      "metadata": {
        "colab": {
          "base_uri": "https://localhost:8080/"
        },
        "id": "VVnSV_W0hwpe",
        "outputId": "9c9be85d-66bf-49e8-da50-babcb36cd97e"
      },
      "source": [
        "print(train_input.shape, test_input.shape)"
      ],
      "execution_count": 2,
      "outputs": [
        {
          "output_type": "stream",
          "text": [
            "(25000,) (25000,)\n"
          ],
          "name": "stdout"
        }
      ]
    },
    {
      "cell_type": "code",
      "metadata": {
        "colab": {
          "base_uri": "https://localhost:8080/"
        },
        "id": "fSsMnm2riXoJ",
        "outputId": "574291bc-c626-4332-90bd-34b8e2381c00"
      },
      "source": [
        "print(len(train_input[0]))"
      ],
      "execution_count": 3,
      "outputs": [
        {
          "output_type": "stream",
          "text": [
            "218\n"
          ],
          "name": "stdout"
        }
      ]
    },
    {
      "cell_type": "code",
      "metadata": {
        "colab": {
          "base_uri": "https://localhost:8080/"
        },
        "id": "Skk_WvvWi1bd",
        "outputId": "df574f25-26e6-461d-fc6a-77e2fb8efa5c"
      },
      "source": [
        "print(len(train_input[1]))"
      ],
      "execution_count": 4,
      "outputs": [
        {
          "output_type": "stream",
          "text": [
            "189\n"
          ],
          "name": "stdout"
        }
      ]
    },
    {
      "cell_type": "code",
      "metadata": {
        "colab": {
          "base_uri": "https://localhost:8080/"
        },
        "id": "lxsn53IBi1h4",
        "outputId": "0369e571-8bf5-49a0-ce7c-bb8af1ca54e6"
      },
      "source": [
        "print(train_input[0])"
      ],
      "execution_count": 5,
      "outputs": [
        {
          "output_type": "stream",
          "text": [
            "[1, 14, 22, 16, 43, 2, 2, 2, 2, 65, 458, 2, 66, 2, 4, 173, 36, 256, 5, 25, 100, 43, 2, 112, 50, 2, 2, 9, 35, 480, 284, 5, 150, 4, 172, 112, 167, 2, 336, 385, 39, 4, 172, 2, 2, 17, 2, 38, 13, 447, 4, 192, 50, 16, 6, 147, 2, 19, 14, 22, 4, 2, 2, 469, 4, 22, 71, 87, 12, 16, 43, 2, 38, 76, 15, 13, 2, 4, 22, 17, 2, 17, 12, 16, 2, 18, 2, 5, 62, 386, 12, 8, 316, 8, 106, 5, 4, 2, 2, 16, 480, 66, 2, 33, 4, 130, 12, 16, 38, 2, 5, 25, 124, 51, 36, 135, 48, 25, 2, 33, 6, 22, 12, 215, 28, 77, 52, 5, 14, 407, 16, 82, 2, 8, 4, 107, 117, 2, 15, 256, 4, 2, 7, 2, 5, 2, 36, 71, 43, 2, 476, 26, 400, 317, 46, 7, 4, 2, 2, 13, 104, 88, 4, 381, 15, 297, 98, 32, 2, 56, 26, 141, 6, 194, 2, 18, 4, 226, 22, 21, 134, 476, 26, 480, 5, 144, 30, 2, 18, 51, 36, 28, 224, 92, 25, 104, 4, 226, 65, 16, 38, 2, 88, 12, 16, 283, 5, 16, 2, 113, 103, 32, 15, 16, 2, 19, 178, 32]\n"
          ],
          "name": "stdout"
        }
      ]
    },
    {
      "cell_type": "code",
      "metadata": {
        "colab": {
          "base_uri": "https://localhost:8080/"
        },
        "id": "eECYRR3ai1TD",
        "outputId": "fe20e9da-bfd5-4bec-9a5d-00d6a9922d45"
      },
      "source": [
        "print(train_target[:20])"
      ],
      "execution_count": 6,
      "outputs": [
        {
          "output_type": "stream",
          "text": [
            "[1 0 0 1 0 0 1 0 1 0 1 0 0 0 0 0 1 1 0 1]\n"
          ],
          "name": "stdout"
        }
      ]
    },
    {
      "cell_type": "code",
      "metadata": {
        "id": "9Fpclm7SkKpb"
      },
      "source": [
        "from sklearn.model_selection import train_test_split\n",
        "train_input, val_input, train_target, val_target= train_test_split(train_input, train_target, test_size=0.2, random_state =42)"
      ],
      "execution_count": 2,
      "outputs": []
    },
    {
      "cell_type": "code",
      "metadata": {
        "id": "_0hxzGVblDau"
      },
      "source": [
        "import numpy as np\n",
        "lengths = np.array([len(x) for x in train_input])"
      ],
      "execution_count": 3,
      "outputs": []
    },
    {
      "cell_type": "code",
      "metadata": {
        "colab": {
          "base_uri": "https://localhost:8080/"
        },
        "id": "jrXSBbXOlPNv",
        "outputId": "0851fb06-c980-4733-8df9-7f57133dd889"
      },
      "source": [
        "lengths"
      ],
      "execution_count": 10,
      "outputs": [
        {
          "output_type": "execute_result",
          "data": {
            "text/plain": [
              "array([259, 520, 290, ..., 300,  70,  77])"
            ]
          },
          "metadata": {
            "tags": []
          },
          "execution_count": 10
        }
      ]
    },
    {
      "cell_type": "code",
      "metadata": {
        "colab": {
          "base_uri": "https://localhost:8080/"
        },
        "id": "xGbiVhmSlXAa",
        "outputId": "f9babf0d-5db3-483c-df2a-03942ce0162d"
      },
      "source": [
        "print(np.mean(lengths),np.median(lengths))"
      ],
      "execution_count": 11,
      "outputs": [
        {
          "output_type": "stream",
          "text": [
            "239.00925 178.0\n"
          ],
          "name": "stdout"
        }
      ]
    },
    {
      "cell_type": "code",
      "metadata": {
        "colab": {
          "base_uri": "https://localhost:8080/",
          "height": 296
        },
        "id": "kXOi4M_klfJE",
        "outputId": "ae76e059-0812-4af3-b591-1e81718bf476"
      },
      "source": [
        "import matplotlib.pyplot as plt\n",
        "plt.hist(lengths)\n",
        "plt.xlabel('length')\n",
        "plt.ylabel('frequency')"
      ],
      "execution_count": 12,
      "outputs": [
        {
          "output_type": "execute_result",
          "data": {
            "text/plain": [
              "Text(0, 0.5, 'frequency')"
            ]
          },
          "metadata": {
            "tags": []
          },
          "execution_count": 12
        },
        {
          "output_type": "display_data",
          "data": {
            "image/png": "[encoded data removed]",
            "text/plain": [
              "<Figure size 432x288 with 1 Axes>"
            ]
          },
          "metadata": {
            "tags": [],
            "needs_background": "light"
          }
        }
      ]
    },
    {
      "cell_type": "code",
      "metadata": {
        "id": "TVszocuxw6SA"
      },
      "source": [
        "from tensorflow.keras.preprocessing.sequence import pad_sequences\n",
        "train_seq = pad_sequences(train_input, maxlen = 100)"
      ],
      "execution_count": 4,
      "outputs": []
    },
    {
      "cell_type": "code",
      "metadata": {
        "colab": {
          "base_uri": "https://localhost:8080/"
        },
        "id": "zKbCrggXycMD",
        "outputId": "e030d43d-f6bd-4579-a8b3-d31755eb3132"
      },
      "source": [
        "print(train_seq.shape)\n",
        "print(train_seq[0])"
      ],
      "execution_count": 18,
      "outputs": [
        {
          "output_type": "stream",
          "text": [
            "(20000, 100)\n",
            "[ 10   4  20   9   2 364 352   5  45   6   2   2  33 269   8   2 142   2\n",
            "   5   2  17  73  17 204   5   2  19  55   2   2  92  66 104  14  20  93\n",
            "  76   2 151  33   4  58  12 188   2 151  12 215  69 224 142  73 237   6\n",
            "   2   7   2   2 188   2 103  14  31  10  10 451   7   2   5   2  80  91\n",
            "   2  30   2  34  14  20 151  50  26 131  49   2  84  46  50  37  80  79\n",
            "   6   2  46   7  14  20  10  10 470 158]\n"
          ],
          "name": "stdout"
        }
      ]
    },
    {
      "cell_type": "code",
      "metadata": {
        "id": "Mo2I8OCr3XEx"
      },
      "source": [
        "train_seq = pad_sequences(train_input, maxlen =100, truncating = 'post')"
      ],
      "execution_count": 21,
      "outputs": []
    },
    {
      "cell_type": "code",
      "metadata": {
        "id": "JlCp147-3twe"
      },
      "source": [
        "val_seq = pad_sequences(val_input, maxlen=100)"
      ],
      "execution_count": 12,
      "outputs": []
    },
    {
      "cell_type": "code",
      "metadata": {
        "id": "_6W2lYfL6THY"
      },
      "source": [
        "from tensorflow import keras\n",
        "model = keras.Sequential()\n",
        "model.add(keras.layers.SimpleRNN(8, input_shape=(100,500)))\n",
        "model.add(keras.layers.Dense(1, activation='sigmoid'))"
      ],
      "execution_count": 5,
      "outputs": []
    },
    {
      "cell_type": "code",
      "metadata": {
        "id": "y6BpapQW9bhH"
      },
      "source": [
        "train_oh = keras.utils.to_categorical(train_seq)"
      ],
      "execution_count": 7,
      "outputs": []
    },
    {
      "cell_type": "code",
      "metadata": {
        "colab": {
          "base_uri": "https://localhost:8080/"
        },
        "id": "dxwxdDg59nTg",
        "outputId": "b37c98ae-34cf-4ab7-a71d-1f021c9d7f48"
      },
      "source": [
        "train_oh.shape"
      ],
      "execution_count": 39,
      "outputs": [
        {
          "output_type": "execute_result",
          "data": {
            "text/plain": [
              "(20000, 100, 500)"
            ]
          },
          "metadata": {
            "tags": []
          },
          "execution_count": 39
        }
      ]
    },
    {
      "cell_type": "code",
      "metadata": {
        "colab": {
          "base_uri": "https://localhost:8080/"
        },
        "id": "-7BOX_nD-NX1",
        "outputId": "840510dc-7493-4f1f-d776-2ea1aa057cee"
      },
      "source": [
        "np.sum(train_oh[0][0])"
      ],
      "execution_count": 41,
      "outputs": [
        {
          "output_type": "execute_result",
          "data": {
            "text/plain": [
              "1.0"
            ]
          },
          "metadata": {
            "tags": []
          },
          "execution_count": 41
        }
      ]
    },
    {
      "cell_type": "code",
      "metadata": {
        "id": "xCuZS4LE-snH"
      },
      "source": [
        "val_oh = keras.utils.to_categorical(val_seq)"
      ],
      "execution_count": 14,
      "outputs": []
    },
    {
      "cell_type": "code",
      "metadata": {
        "colab": {
          "base_uri": "https://localhost:8080/"
        },
        "id": "SkosKAnM-uVC",
        "outputId": "c95f6674-de0a-463a-bbbe-1c21825121ce"
      },
      "source": [
        "model.summary()"
      ],
      "execution_count": 15,
      "outputs": [
        {
          "output_type": "stream",
          "text": [
            "Model: \"sequential\"\n",
            "_________________________________________________________________\n",
            "Layer (type)                 Output Shape              Param #   \n",
            "=================================================================\n",
            "simple_rnn (SimpleRNN)       (None, 8)                 4072      \n",
            "_________________________________________________________________\n",
            "dense (Dense)                (None, 1)                 9         \n",
            "=================================================================\n",
            "Total params: 4,081\n",
            "Trainable params: 4,081\n",
            "Non-trainable params: 0\n",
            "_________________________________________________________________\n"
          ],
          "name": "stdout"
        }
      ]
    },
    {
      "cell_type": "code",
      "metadata": {
        "colab": {
          "base_uri": "https://localhost:8080/"
        },
        "id": "H2lNsTTQBMnM",
        "outputId": "b745491d-ed3a-4497-9aa9-5878a06a8afc"
      },
      "source": [
        "rmsprop = keras.optimizers.RMSprop(learning_rate = 0.0001)\n",
        "model.compile(optimizer=rmsprop, loss='binary_crossentropy',\n",
        "              metrics=['accuracy'])\n",
        "checkpoint_cb = keras.callbacks.ModelCheckpoint('best-simplearnn-model.h5')\n",
        "early_stopping_cb = keras.callbacks.EarlyStopping(patience=3, restore_best_weights=True)\n",
        "history = model.fit(train_oh, train_target, epochs=100, batch_size = 64, validation_data = (val_oh, val_target),\n",
        "                    callbacks=[checkpoint_cb, early_stopping_cb])"
      ],
      "execution_count": 16,
      "outputs": [
        {
          "output_type": "stream",
          "text": [
            "Epoch 1/100\n",
            "313/313 [==============================] - 13s 38ms/step - loss: 0.6816 - accuracy: 0.5608 - val_loss: 0.6761 - val_accuracy: 0.5748\n",
            "Epoch 2/100\n",
            "313/313 [==============================] - 13s 41ms/step - loss: 0.6587 - accuracy: 0.6134 - val_loss: 0.6526 - val_accuracy: 0.6224\n",
            "Epoch 3/100\n",
            "313/313 [==============================] - 12s 38ms/step - loss: 0.6386 - accuracy: 0.6425 - val_loss: 0.6355 - val_accuracy: 0.6432\n",
            "Epoch 4/100\n",
            "313/313 [==============================] - 12s 37ms/step - loss: 0.6190 - accuracy: 0.6676 - val_loss: 0.6189 - val_accuracy: 0.6628\n",
            "Epoch 5/100\n",
            "313/313 [==============================] - 12s 37ms/step - loss: 0.5988 - accuracy: 0.6912 - val_loss: 0.5994 - val_accuracy: 0.6850\n",
            "Epoch 6/100\n",
            "313/313 [==============================] - 12s 37ms/step - loss: 0.5793 - accuracy: 0.7078 - val_loss: 0.5858 - val_accuracy: 0.6938\n",
            "Epoch 7/100\n",
            "313/313 [==============================] - 12s 38ms/step - loss: 0.5613 - accuracy: 0.7253 - val_loss: 0.5657 - val_accuracy: 0.7162\n",
            "Epoch 8/100\n",
            "313/313 [==============================] - 12s 38ms/step - loss: 0.5447 - accuracy: 0.7397 - val_loss: 0.5540 - val_accuracy: 0.7260\n",
            "Epoch 9/100\n",
            "313/313 [==============================] - 12s 37ms/step - loss: 0.5297 - accuracy: 0.7517 - val_loss: 0.5372 - val_accuracy: 0.7370\n",
            "Epoch 10/100\n",
            "313/313 [==============================] - 12s 37ms/step - loss: 0.5172 - accuracy: 0.7603 - val_loss: 0.5266 - val_accuracy: 0.7464\n",
            "Epoch 11/100\n",
            "313/313 [==============================] - 12s 37ms/step - loss: 0.5060 - accuracy: 0.7693 - val_loss: 0.5185 - val_accuracy: 0.7520\n",
            "Epoch 12/100\n",
            "313/313 [==============================] - 12s 37ms/step - loss: 0.4965 - accuracy: 0.7743 - val_loss: 0.5175 - val_accuracy: 0.7492\n",
            "Epoch 13/100\n",
            "313/313 [==============================] - 12s 38ms/step - loss: 0.4895 - accuracy: 0.7787 - val_loss: 0.5029 - val_accuracy: 0.7670\n",
            "Epoch 14/100\n",
            "313/313 [==============================] - 12s 37ms/step - loss: 0.4820 - accuracy: 0.7822 - val_loss: 0.4992 - val_accuracy: 0.7708\n",
            "Epoch 15/100\n",
            "313/313 [==============================] - 12s 38ms/step - loss: 0.4759 - accuracy: 0.7860 - val_loss: 0.4923 - val_accuracy: 0.7728\n",
            "Epoch 16/100\n",
            "313/313 [==============================] - 12s 38ms/step - loss: 0.4699 - accuracy: 0.7904 - val_loss: 0.4916 - val_accuracy: 0.7700\n",
            "Epoch 17/100\n",
            "313/313 [==============================] - 12s 38ms/step - loss: 0.4646 - accuracy: 0.7930 - val_loss: 0.4876 - val_accuracy: 0.7746\n",
            "Epoch 18/100\n",
            "313/313 [==============================] - 12s 38ms/step - loss: 0.4607 - accuracy: 0.7951 - val_loss: 0.4825 - val_accuracy: 0.7778\n",
            "Epoch 19/100\n",
            "313/313 [==============================] - 12s 38ms/step - loss: 0.4561 - accuracy: 0.7969 - val_loss: 0.4810 - val_accuracy: 0.7780\n",
            "Epoch 20/100\n",
            "313/313 [==============================] - 12s 38ms/step - loss: 0.4520 - accuracy: 0.7998 - val_loss: 0.4782 - val_accuracy: 0.7808\n",
            "Epoch 21/100\n",
            "313/313 [==============================] - 12s 38ms/step - loss: 0.4496 - accuracy: 0.8022 - val_loss: 0.4732 - val_accuracy: 0.7836\n",
            "Epoch 22/100\n",
            "313/313 [==============================] - 12s 38ms/step - loss: 0.4460 - accuracy: 0.8030 - val_loss: 0.4754 - val_accuracy: 0.7806\n",
            "Epoch 23/100\n",
            "313/313 [==============================] - 12s 38ms/step - loss: 0.4435 - accuracy: 0.8047 - val_loss: 0.4749 - val_accuracy: 0.7808\n",
            "Epoch 24/100\n",
            "313/313 [==============================] - 12s 38ms/step - loss: 0.4402 - accuracy: 0.8073 - val_loss: 0.4682 - val_accuracy: 0.7862\n",
            "Epoch 25/100\n",
            "313/313 [==============================] - 12s 38ms/step - loss: 0.4377 - accuracy: 0.8077 - val_loss: 0.4677 - val_accuracy: 0.7864\n",
            "Epoch 26/100\n",
            "313/313 [==============================] - 12s 38ms/step - loss: 0.4351 - accuracy: 0.8097 - val_loss: 0.4669 - val_accuracy: 0.7874\n",
            "Epoch 27/100\n",
            "313/313 [==============================] - 12s 38ms/step - loss: 0.4336 - accuracy: 0.8085 - val_loss: 0.4678 - val_accuracy: 0.7852\n",
            "Epoch 28/100\n",
            "313/313 [==============================] - 12s 38ms/step - loss: 0.4315 - accuracy: 0.8107 - val_loss: 0.4695 - val_accuracy: 0.7834\n",
            "Epoch 29/100\n",
            "313/313 [==============================] - 12s 38ms/step - loss: 0.4300 - accuracy: 0.8101 - val_loss: 0.4645 - val_accuracy: 0.7884\n",
            "Epoch 30/100\n",
            "313/313 [==============================] - 12s 38ms/step - loss: 0.4277 - accuracy: 0.8132 - val_loss: 0.4642 - val_accuracy: 0.7900\n",
            "Epoch 31/100\n",
            "313/313 [==============================] - 12s 38ms/step - loss: 0.4256 - accuracy: 0.8137 - val_loss: 0.4640 - val_accuracy: 0.7884\n",
            "Epoch 32/100\n",
            "313/313 [==============================] - 12s 38ms/step - loss: 0.4242 - accuracy: 0.8142 - val_loss: 0.4646 - val_accuracy: 0.7848\n",
            "Epoch 33/100\n",
            "313/313 [==============================] - 12s 38ms/step - loss: 0.4227 - accuracy: 0.8153 - val_loss: 0.4631 - val_accuracy: 0.7890\n",
            "Epoch 34/100\n",
            "313/313 [==============================] - 12s 38ms/step - loss: 0.4216 - accuracy: 0.8162 - val_loss: 0.4634 - val_accuracy: 0.7852\n",
            "Epoch 35/100\n",
            "313/313 [==============================] - 12s 38ms/step - loss: 0.4203 - accuracy: 0.8164 - val_loss: 0.4639 - val_accuracy: 0.7880\n",
            "Epoch 36/100\n",
            "313/313 [==============================] - 12s 38ms/step - loss: 0.4183 - accuracy: 0.8183 - val_loss: 0.4674 - val_accuracy: 0.7838\n"
          ],
          "name": "stdout"
        }
      ]
    },
    {
      "cell_type": "code",
      "metadata": {
        "colab": {
          "base_uri": "https://localhost:8080/",
          "height": 296
        },
        "id": "MPvpNrhTHFDr",
        "outputId": "80f067fa-7755-46dd-be33-ee7b85ee1c52"
      },
      "source": [
        "import matplotlib.pyplot as plt\n",
        "plt.plot(history.history['loss'])\n",
        "plt.plot(history.history['val_loss'])\n",
        "plt.xlabel('epoch')\n",
        "plt.ylabel('loss')\n",
        "plt.legend(['train','val'])"
      ],
      "execution_count": 24,
      "outputs": [
        {
          "output_type": "execute_result",
          "data": {
            "text/plain": [
              "<matplotlib.legend.Legend at 0x7f028ad62650>"
            ]
          },
          "metadata": {
            "tags": []
          },
          "execution_count": 24
        },
        {
          "output_type": "display_data",
          "data": {
            "image/png": "[encoded data removed]",
            "text/plain": [
              "<Figure size 432x288 with 1 Axes>"
            ]
          },
          "metadata": {
            "tags": [],
            "needs_background": "light"
          }
        }
      ]
    },
    {
      "cell_type": "code",
      "metadata": {
        "id": "Q70nL3-xK1kj"
      },
      "source": [
        "model2 = keras.Sequential()\n",
        "model2.add(keras.layers.Embedding(500, 16, input_length=100))\n",
        "model2.add(keras.layers.SimpleRNN(8))\n",
        "model2.add(keras.layers.Dense(1, activation ='sigmoid'))"
      ],
      "execution_count": 21,
      "outputs": []
    },
    {
      "cell_type": "code",
      "metadata": {
        "colab": {
          "base_uri": "https://localhost:8080/"
        },
        "id": "9dV5y1WYNnkj",
        "outputId": "215e16be-487d-471f-b8aa-f1365eea6fbe"
      },
      "source": [
        "model2.summary()"
      ],
      "execution_count": 23,
      "outputs": [
        {
          "output_type": "stream",
          "text": [
            "Model: \"sequential_3\"\n",
            "_________________________________________________________________\n",
            "Layer (type)                 Output Shape              Param #   \n",
            "=================================================================\n",
            "embedding (Embedding)        (None, 100, 16)           8000      \n",
            "_________________________________________________________________\n",
            "simple_rnn_1 (SimpleRNN)     (None, 8)                 200       \n",
            "_________________________________________________________________\n",
            "dense_1 (Dense)              (None, 1)                 9         \n",
            "=================================================================\n",
            "Total params: 8,209\n",
            "Trainable params: 8,209\n",
            "Non-trainable params: 0\n",
            "_________________________________________________________________\n"
          ],
          "name": "stdout"
        }
      ]
    },
    {
      "cell_type": "code",
      "metadata": {
        "colab": {
          "base_uri": "https://localhost:8080/"
        },
        "id": "6JkbAFQLhMNK",
        "outputId": "e5fe5fed-2e31-42da-e175-60fd47438fcc"
      },
      "source": [
        "rmsprop = keras.optimizers.RMSprop(learning_rate = 1e-4)\n",
        "model2.compile(optimizer=rmsprop, loss='binary_crossentropy',\n",
        "               metrics=['accuracy'])\n",
        "checkpoint_cb = keras.callbacks.ModelCheckpoint('best-embedding-model.h5')\n",
        "early_stopping_cb = keras.callbacks.EarlyStopping(patience = 3, restore_best_weights=True)\n",
        "history = model2.fit(train_seq, train_target, epochs = 100 , batch_size = 64, validation_data = (val_seq, val_target),\n",
        "                     callbacks=[checkpoint_cb, early_stopping_cb])"
      ],
      "execution_count": 26,
      "outputs": [
        {
          "output_type": "stream",
          "text": [
            "Epoch 1/100\n",
            "313/313 [==============================] - 8s 21ms/step - loss: 0.6765 - accuracy: 0.5706 - val_loss: 0.6462 - val_accuracy: 0.6304\n",
            "Epoch 2/100\n",
            "313/313 [==============================] - 6s 20ms/step - loss: 0.6118 - accuracy: 0.6852 - val_loss: 0.5964 - val_accuracy: 0.7136\n",
            "Epoch 3/100\n",
            "313/313 [==============================] - 6s 20ms/step - loss: 0.5750 - accuracy: 0.7285 - val_loss: 0.5841 - val_accuracy: 0.7104\n",
            "Epoch 4/100\n",
            "313/313 [==============================] - 6s 20ms/step - loss: 0.5532 - accuracy: 0.7480 - val_loss: 0.5615 - val_accuracy: 0.7314\n",
            "Epoch 5/100\n",
            "313/313 [==============================] - 6s 20ms/step - loss: 0.5370 - accuracy: 0.7605 - val_loss: 0.5401 - val_accuracy: 0.7528\n",
            "Epoch 6/100\n",
            "313/313 [==============================] - 6s 20ms/step - loss: 0.5224 - accuracy: 0.7714 - val_loss: 0.5314 - val_accuracy: 0.7562\n",
            "Epoch 7/100\n",
            "313/313 [==============================] - 6s 20ms/step - loss: 0.5097 - accuracy: 0.7789 - val_loss: 0.5184 - val_accuracy: 0.7688\n",
            "Epoch 8/100\n",
            "313/313 [==============================] - 6s 19ms/step - loss: 0.4977 - accuracy: 0.7837 - val_loss: 0.5085 - val_accuracy: 0.7740\n",
            "Epoch 9/100\n",
            "313/313 [==============================] - 6s 20ms/step - loss: 0.4873 - accuracy: 0.7901 - val_loss: 0.4988 - val_accuracy: 0.7808\n",
            "Epoch 10/100\n",
            "313/313 [==============================] - 6s 20ms/step - loss: 0.4778 - accuracy: 0.7933 - val_loss: 0.4912 - val_accuracy: 0.7820\n",
            "Epoch 11/100\n",
            "313/313 [==============================] - 6s 20ms/step - loss: 0.4692 - accuracy: 0.7969 - val_loss: 0.4860 - val_accuracy: 0.7818\n",
            "Epoch 12/100\n",
            "313/313 [==============================] - 6s 20ms/step - loss: 0.4605 - accuracy: 0.8008 - val_loss: 0.4802 - val_accuracy: 0.7834\n",
            "Epoch 13/100\n",
            "313/313 [==============================] - 6s 20ms/step - loss: 0.4530 - accuracy: 0.8058 - val_loss: 0.4780 - val_accuracy: 0.7830\n",
            "Epoch 14/100\n",
            "313/313 [==============================] - 6s 19ms/step - loss: 0.4465 - accuracy: 0.8059 - val_loss: 0.4695 - val_accuracy: 0.7896\n",
            "Epoch 15/100\n",
            "313/313 [==============================] - 6s 20ms/step - loss: 0.4405 - accuracy: 0.8095 - val_loss: 0.4687 - val_accuracy: 0.7882\n",
            "Epoch 16/100\n",
            "313/313 [==============================] - 6s 20ms/step - loss: 0.4343 - accuracy: 0.8133 - val_loss: 0.4650 - val_accuracy: 0.7868\n",
            "Epoch 17/100\n",
            "313/313 [==============================] - 6s 19ms/step - loss: 0.4297 - accuracy: 0.8149 - val_loss: 0.4695 - val_accuracy: 0.7872\n",
            "Epoch 18/100\n",
            "313/313 [==============================] - 6s 20ms/step - loss: 0.4249 - accuracy: 0.8148 - val_loss: 0.4626 - val_accuracy: 0.7876\n",
            "Epoch 19/100\n",
            "313/313 [==============================] - 6s 20ms/step - loss: 0.4203 - accuracy: 0.8170 - val_loss: 0.4623 - val_accuracy: 0.7904\n",
            "Epoch 20/100\n",
            "313/313 [==============================] - 6s 20ms/step - loss: 0.4166 - accuracy: 0.8188 - val_loss: 0.4586 - val_accuracy: 0.7888\n",
            "Epoch 21/100\n",
            "313/313 [==============================] - 6s 20ms/step - loss: 0.4134 - accuracy: 0.8188 - val_loss: 0.4606 - val_accuracy: 0.7870\n",
            "Epoch 22/100\n",
            "313/313 [==============================] - 6s 20ms/step - loss: 0.4102 - accuracy: 0.8226 - val_loss: 0.4592 - val_accuracy: 0.7874\n",
            "Epoch 23/100\n",
            "313/313 [==============================] - 6s 20ms/step - loss: 0.4072 - accuracy: 0.8221 - val_loss: 0.4596 - val_accuracy: 0.7876\n"
          ],
          "name": "stdout"
        }
      ]
    },
    {
      "cell_type": "code",
      "metadata": {
        "colab": {
          "base_uri": "https://localhost:8080/",
          "height": 296
        },
        "id": "I_JpvdONiwTc",
        "outputId": "3d442a3a-693e-498f-d564-ee304165b1a8"
      },
      "source": [
        "plt.plot(history.history['loss'])\n",
        "plt.plot(history.history['val_loss'])\n",
        "plt.xlabel('epoch')\n",
        "plt.ylabel('loss')\n",
        "plt.legend(['train','val'])"
      ],
      "execution_count": 27,
      "outputs": [
        {
          "output_type": "execute_result",
          "data": {
            "text/plain": [
              "<matplotlib.legend.Legend at 0x7f028a7d4610>"
            ]
          },
          "metadata": {
            "tags": []
          },
          "execution_count": 27
        },
        {
          "output_type": "display_data",
          "data": {
            "image/png": "[encoded data removed]",
            "text/plain": [
              "<Figure size 432x288 with 1 Axes>"
            ]
          },
          "metadata": {
            "tags": [],
            "needs_background": "light"
          }
        }
      ]
    }
  ]
}